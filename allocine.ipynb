{
 "cells": [
  {
   "cell_type": "markdown",
   "metadata": {},
   "source": [
    "# Exemple de finetuning d'un modèle BERT sur la classification des avis du site Allociné\n",
    "\n",
    "[Ouvrir dans Google colab](https://colab.research.google.com/github/Herve07h22/nlp-fine-tuning/blob/main/allocine.ipynb#scrollTo=2zg2loyfZj3y)"
   ]
  },
  {
   "cell_type": "code",
   "execution_count": null,
   "metadata": {},
   "outputs": [],
   "source": [
    "%pip install datasets transformers"
   ]
  },
  {
   "cell_type": "code",
   "execution_count": 1,
   "metadata": {},
   "outputs": [],
   "source": [
    "from datasets import load_dataset, load_metric\n",
    "from transformers import AutoTokenizer, AutoModelForSequenceClassification, TrainingArguments, Trainer\n",
    "import numpy as np\n",
    "import torch"
   ]
  },
  {
   "cell_type": "code",
   "execution_count": null,
   "metadata": {},
   "outputs": [],
   "source": [
    "raw_datasets = load_dataset(\"allocine\")\n",
    "raw_datasets.shape"
   ]
  },
  {
   "cell_type": "markdown",
   "metadata": {},
   "source": [
    "## aperçu du dataset \"Allociné\"\n",
    "\n",
    "5 commentaires positifs"
   ]
  },
  {
   "cell_type": "code",
   "execution_count": null,
   "metadata": {},
   "outputs": [],
   "source": [
    "positive_samples = raw_datasets[\"train\"].shuffle(seed=42).filter(lambda example: example['label']==1)\n",
    "positive_samples['review'][:5]"
   ]
  },
  {
   "cell_type": "markdown",
   "metadata": {},
   "source": [
    "5 commentaires négatifs"
   ]
  },
  {
   "cell_type": "code",
   "execution_count": null,
   "metadata": {},
   "outputs": [],
   "source": [
    "positive_samples = raw_datasets[\"train\"].shuffle(seed=42).filter(lambda example: example['label']==0)\n",
    "positive_samples['review'][:5]"
   ]
  },
  {
   "cell_type": "markdown",
   "metadata": {},
   "source": [
    "## Pre-processing du dataset\n",
    "\n",
    "Pour l'entraînement du modèle de classification, on utiliser un `Trainer` de HuggingFace. Il utilise un dataset comportant 2 features :\n",
    "- le label (0 ou 1)\n",
    "- les input_ids tokenisés\n",
    "- les attention_mask (1 si le mot est présent, 0 sinon)\n",
    "\n",
    "On va donc pré-processer notre dataset avec le Tokeniser du modèle"
   ]
  },
  {
   "cell_type": "code",
   "execution_count": 20,
   "metadata": {},
   "outputs": [
    {
     "name": "stderr",
     "output_type": "stream",
     "text": [
      "100%|██████████| 160/160 [01:14<00:00,  2.14ba/s]\n",
      "100%|██████████| 20/20 [00:09<00:00,  2.14ba/s]\n",
      "100%|██████████| 20/20 [00:09<00:00,  2.13ba/s]\n"
     ]
    },
    {
     "data": {
      "text/plain": [
       "{'train': (160000, 4), 'validation': (20000, 4), 'test': (20000, 4)}"
      ]
     },
     "execution_count": 20,
     "metadata": {},
     "output_type": "execute_result"
    }
   ],
   "source": [
    "tokenizer = AutoTokenizer.from_pretrained(\"camembert-base\")\n",
    "\n",
    "def tokenize_function(examples):\n",
    "    return tokenizer(examples[\"review\"], padding=\"max_length\", truncation=True)\n",
    "\n",
    "tokenized_datasets = raw_datasets.map(tokenize_function, batched=True)\n",
    "\n",
    "tokenized_datasets.shape"
   ]
  }
 ],
 "metadata": {
  "interpreter": {
   "hash": "ee5332e541e6d47f8eaf92d62b92f50e94dc4471375500c1337eb2fe711fbfc8"
  },
  "kernelspec": {
   "display_name": "Python 3.8.5 ('.env': venv)",
   "language": "python",
   "name": "python3"
  },
  "language_info": {
   "codemirror_mode": {
    "name": "ipython",
    "version": 3
   },
   "file_extension": ".py",
   "mimetype": "text/x-python",
   "name": "python",
   "nbconvert_exporter": "python",
   "pygments_lexer": "ipython3",
   "version": "3.9.6"
  },
  "orig_nbformat": 4
 },
 "nbformat": 4,
 "nbformat_minor": 2
}
